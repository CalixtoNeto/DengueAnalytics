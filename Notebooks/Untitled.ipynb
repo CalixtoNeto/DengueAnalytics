{
 "cells": [
  {
   "cell_type": "code",
   "execution_count": 1,
   "metadata": {},
   "outputs": [],
   "source": [
    "from dbfread import DBF\n",
    "import pandas as pd"
   ]
  },
  {
   "cell_type": "code",
   "execution_count": 2,
   "metadata": {},
   "outputs": [],
   "source": [
    "def ler_dbf(fname, encoding):\n",
    "    \n",
    "    '''\n",
    "    Ler um arquivo dbf retornando um Dataframe Pandas com\n",
    "    : parametro fname: nome do arquivo dbf\n",
    "    : parametro encoding: codificação do dbf\n",
    "    : return: pandas dataframe\n",
    "    '''\n",
    "    db = DBF(fname, encoding=encoding)\n",
    "    df = pd.DataFrame(list(db))\n",
    "    \n",
    "    def convert_week(x):\n",
    "        try:\n",
    "            w = int(x) % 100\n",
    "        except ValueError:\n",
    "            w = pd.np.nan\n",
    "        return w\n",
    "    for cname in df.columns:\n",
    "        df[cname].replace('', pd.np.nan, inplace=True)\n",
    "        if cname.startswith(('NU', 'ID')):\n",
    "            try:\n",
    "                df[cname] = pd.to_numeric(df[cname])\n",
    "            except ValueError as e:\n",
    "                pass\n",
    "        elif cname.startswith('SEM'):\n",
    "            df[cname] = df[cname].map(convert_week)\n",
    "\n",
    "    return df"
   ]
  },
  {
   "cell_type": "code",
   "execution_count": null,
   "metadata": {},
   "outputs": [],
   "source": []
  }
 ],
 "metadata": {
  "kernelspec": {
   "display_name": "Python 3",
   "language": "python",
   "name": "python3"
  },
  "language_info": {
   "codemirror_mode": {
    "name": "ipython",
    "version": 3
   },
   "file_extension": ".py",
   "mimetype": "text/x-python",
   "name": "python",
   "nbconvert_exporter": "python",
   "pygments_lexer": "ipython3",
   "version": "3.7.3"
  }
 },
 "nbformat": 4,
 "nbformat_minor": 2
}
