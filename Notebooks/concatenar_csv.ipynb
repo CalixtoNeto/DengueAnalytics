{
 "cells": [
  {
   "cell_type": "code",
   "execution_count": 1,
   "metadata": {},
   "outputs": [],
   "source": [
    "import os\n",
    "import glob\n",
    "import pandas as pd"
   ]
  },
  {
   "cell_type": "markdown",
   "metadata": {},
   "source": [
    "Concatenar os CSV's "
   ]
  },
  {
   "cell_type": "code",
   "execution_count": 2,
   "metadata": {},
   "outputs": [],
   "source": [
    "def concatenar(infiles,outfiles):\n",
    "    os.chdir(infiles)\n",
    "    lista_arquivos = glob.glob(\"*.csv\")\n",
    "    dfList=[]\n",
    "   # colunas = ['ID_AGRAVO','DT_NOTIFIC','SEM_NOT','NU_ANO','SG_UF_NOT','ID_MUNICIP','ID_REGIONA','ID_UNIDADE','DT_SIN_PRI','SEM_PRI','NU_IDADE_N','CS_SEXO','CS_GESTANT','CS_RACA','CS_ESCOL_N','SG_UF','ID_MN_RESI','ID_RG_RESI','ID_PAIS','DT_INVEST','ID_OCUPA_N','FEBRE','MIALGIA','CEFALEIA','EXANTEMA','VOMITO','NAUSEA','DOR_COSTAS','CONJUNTVIT','ARTRITE','ARTRALGIA','PETEQUIA_N','LEUCOPENIA','LACO','DOR_RETRO','DIABETES','HEMATOLOG','HEPATOPAT','RENAL','HIPERTENSA','ACIDO_PEPT','AUTO_IMUNE','TPAUTOCTO','COUFINF','COPAISINF','COMUNINF','CLASSI_FIN','CRITERIO','DT_OBITO']\n",
    "    for nome_arquivo in lista_arquivos:\n",
    "        print(nome_arquivo)\n",
    "        df = pd.read_csv(nome_arquivo,encoding='ISO-8859-1',header=None,dtype='unicode')\n",
    "        dfList.append(df)\n",
    "    concatenado = pd.concat(dfList,axis=0)\n",
    "    concatenado.to_csv(outfile,index=None)      "
   ]
  },
  {
   "cell_type": "code",
   "execution_count": 4,
   "metadata": {},
   "outputs": [
    {
     "name": "stdout",
     "output_type": "stream",
     "text": [
      "ok\n"
     ]
    }
   ],
   "source": [
    "infiles  = \"C:/Users/CALIXTO/Documents/GitHub/DengueAnalytics/DADOS/\"\n",
    "outfiles = \"C:/Users/CALIXTO/Documents/GitHub/DengueAnalytics/DADOS/concatenado.csv\"\n",
    "print(\"ok\")"
   ]
  },
  {
   "cell_type": "code",
   "execution_count": null,
   "metadata": {},
   "outputs": [
    {
     "name": "stdout",
     "output_type": "stream",
     "text": [
      "DENGMG13.csv\n",
      "DENGMG16.csv\n",
      "DENGSP13.csv\n",
      "DENGSP14.csv\n",
      "DENGSP15.csv\n",
      "DENGSP16.csv\n"
     ]
    }
   ],
   "source": [
    "concatenar(infiles,outfiles)\n",
    "print(\"fim\")"
   ]
  },
  {
   "cell_type": "code",
   "execution_count": null,
   "metadata": {},
   "outputs": [],
   "source": []
  }
 ],
 "metadata": {
  "kernelspec": {
   "display_name": "Python 3",
   "language": "python",
   "name": "python3"
  },
  "language_info": {
   "codemirror_mode": {
    "name": "ipython",
    "version": 3
   },
   "file_extension": ".py",
   "mimetype": "text/x-python",
   "name": "python",
   "nbconvert_exporter": "python",
   "pygments_lexer": "ipython3",
   "version": "3.7.3"
  }
 },
 "nbformat": 4,
 "nbformat_minor": 2
}
